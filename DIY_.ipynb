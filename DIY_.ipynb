{
 "cells": [
  {
   "cell_type": "code",
   "execution_count": 11,
   "id": "6da126e3-a5bf-4598-be8f-d35b0f97441a",
   "metadata": {},
   "outputs": [],
   "source": [
    "import pandas as pd\n",
    "import numpy as np\n",
    "import matplotlib.pyplot as plt\n",
    "import seaborn as sns\n",
    "from statistics import *"
   ]
  },
  {
   "cell_type": "code",
   "execution_count": 110,
   "id": "47b6270f-63bc-4d99-8b0d-a9b379c07c8f",
   "metadata": {},
   "outputs": [
    {
     "name": "stdout",
     "output_type": "stream",
     "text": [
      "3\n",
      "4\n",
      "5\n"
     ]
    }
   ],
   "source": [
    "# Q1. Problem Statement: Measures of Central Tendency- I\n",
    "# Write a Python program to declare a 1-D array. With the help of the statistics\n",
    "# library, calculate the Mean, Median, and Mode.\n",
    "# Note: You can write any data of your choice inside the array\n",
    "x = [ 1, 2, 3, 4, 5, 6, 2, 3, 4, 5, 5, 5, 5]\n",
    "y = np.array(x)\n",
    "# print(y)\n",
    "print(mean(y))\n",
    "print(median(y))\n",
    "print(mode(y))\n"
   ]
  },
  {
   "cell_type": "code",
   "execution_count": 23,
   "id": "88d3f23d-9dcd-4296-b7db-a13d853865a5",
   "metadata": {},
   "outputs": [
    {
     "data": {
      "text/html": [
       "<div>\n",
       "<style scoped>\n",
       "    .dataframe tbody tr th:only-of-type {\n",
       "        vertical-align: middle;\n",
       "    }\n",
       "\n",
       "    .dataframe tbody tr th {\n",
       "        vertical-align: top;\n",
       "    }\n",
       "\n",
       "    .dataframe thead th {\n",
       "        text-align: right;\n",
       "    }\n",
       "</style>\n",
       "<table border=\"1\" class=\"dataframe\">\n",
       "  <thead>\n",
       "    <tr style=\"text-align: right;\">\n",
       "      <th></th>\n",
       "      <th>Apple</th>\n",
       "      <th>Orange</th>\n",
       "      <th>Banana</th>\n",
       "      <th>Pear</th>\n",
       "    </tr>\n",
       "  </thead>\n",
       "  <tbody>\n",
       "    <tr>\n",
       "      <th>bag1</th>\n",
       "      <td>10</td>\n",
       "      <td>20</td>\n",
       "      <td>30</td>\n",
       "      <td>40</td>\n",
       "    </tr>\n",
       "    <tr>\n",
       "      <th>bag2</th>\n",
       "      <td>7</td>\n",
       "      <td>14</td>\n",
       "      <td>21</td>\n",
       "      <td>28</td>\n",
       "    </tr>\n",
       "    <tr>\n",
       "      <th>bag3</th>\n",
       "      <td>55</td>\n",
       "      <td>15</td>\n",
       "      <td>8</td>\n",
       "      <td>12</td>\n",
       "    </tr>\n",
       "    <tr>\n",
       "      <th>bag4</th>\n",
       "      <td>15</td>\n",
       "      <td>14</td>\n",
       "      <td>1</td>\n",
       "      <td>8</td>\n",
       "    </tr>\n",
       "    <tr>\n",
       "      <th>bag5</th>\n",
       "      <td>7</td>\n",
       "      <td>1</td>\n",
       "      <td>1</td>\n",
       "      <td>8</td>\n",
       "    </tr>\n",
       "    <tr>\n",
       "      <th>bag6</th>\n",
       "      <td>5</td>\n",
       "      <td>4</td>\n",
       "      <td>9</td>\n",
       "      <td>2</td>\n",
       "    </tr>\n",
       "  </tbody>\n",
       "</table>\n",
       "</div>"
      ],
      "text/plain": [
       "      Apple  Orange  Banana  Pear\n",
       "bag1     10      20      30    40\n",
       "bag2      7      14      21    28\n",
       "bag3     55      15       8    12\n",
       "bag4     15      14       1     8\n",
       "bag5      7       1       1     8\n",
       "bag6      5       4       9     2"
      ]
     },
     "execution_count": 23,
     "metadata": {},
     "output_type": "execute_result"
    }
   ],
   "source": [
    "# import pandas as pd\n",
    "\n",
    "# # Create a list of lists containing the data\n",
    "# data = [\n",
    "#     [\"Bag1\", 10, 20, 30, 40],\n",
    "#     [\"Bag2\", 7, 14, 21, 28],\n",
    "#     [\"Bag3\", 55, 15, 8, 12],\n",
    "#     [\"Bag4\", 15, 14, 1, 8],\n",
    "#     [\"Bag5\", 7, 1, 1, 8],\n",
    "#     [\"Bag6\", 5, 4, 9, 2]\n",
    "# ]\n",
    "\n",
    "# # Create a Pandas DataFrame from the list of lists\n",
    "# df = pd.DataFrame(data, columns=[\"Bag\", \"Apple\", \"Orange\", \"Banana\", \"Pear\"])\n",
    "\n",
    "# print(df)\n",
    "\n",
    "# Q2. Problem Statement: Measures of Central Tendency- II\n",
    "# Write a Python program to declare a DataFrame as shown in the dataset section\n",
    "# below and calculate the Mean, Median, and Mode of the entire DataFrame.\n",
    "# Note: You can write any data of your choice inside the DataFrame\n",
    "\n",
    "\n",
    "data = { \"Apple\" : [10,7,55,15,7,5],\n",
    "        \"Orange\" : [20,14,15,14,1,4],\n",
    "        \"Banana\" : [30,21,8,1,1,9],\n",
    "        \"Pear\" : [40,28,12,8,8,2]}\n",
    "bags = [\"bag1\",\"bag2\",\"bag3\",\"bag4\",\"bag5\",\"bag6\"]\n",
    "\n",
    "df = pd.DataFrame(data, index=bags)\n",
    "df"
   ]
  },
  {
   "cell_type": "code",
   "execution_count": 31,
   "id": "352c6325-ce12-40aa-91f1-bf4c4d9aedbc",
   "metadata": {},
   "outputs": [
    {
     "data": {
      "text/plain": [
       "Apple     16.500000\n",
       "Orange    11.333333\n",
       "Banana    11.666667\n",
       "Pear      16.333333\n",
       "dtype: float64"
      ]
     },
     "execution_count": 31,
     "metadata": {},
     "output_type": "execute_result"
    }
   ],
   "source": [
    "df.mean()"
   ]
  },
  {
   "cell_type": "code",
   "execution_count": 35,
   "id": "5ce8a6b0-91e6-4f38-8b54-3a4c9561fa2c",
   "metadata": {},
   "outputs": [
    {
     "data": {
      "text/plain": [
       "Apple      8.5\n",
       "Orange    14.0\n",
       "Banana     8.5\n",
       "Pear      10.0\n",
       "dtype: float64"
      ]
     },
     "execution_count": 35,
     "metadata": {},
     "output_type": "execute_result"
    }
   ],
   "source": [
    "df.median()"
   ]
  },
  {
   "cell_type": "code",
   "execution_count": 37,
   "id": "5bd8b274-88f9-4a83-80c8-133610737c14",
   "metadata": {},
   "outputs": [
    {
     "data": {
      "text/html": [
       "<div>\n",
       "<style scoped>\n",
       "    .dataframe tbody tr th:only-of-type {\n",
       "        vertical-align: middle;\n",
       "    }\n",
       "\n",
       "    .dataframe tbody tr th {\n",
       "        vertical-align: top;\n",
       "    }\n",
       "\n",
       "    .dataframe thead th {\n",
       "        text-align: right;\n",
       "    }\n",
       "</style>\n",
       "<table border=\"1\" class=\"dataframe\">\n",
       "  <thead>\n",
       "    <tr style=\"text-align: right;\">\n",
       "      <th></th>\n",
       "      <th>Apple</th>\n",
       "      <th>Orange</th>\n",
       "      <th>Banana</th>\n",
       "      <th>Pear</th>\n",
       "    </tr>\n",
       "  </thead>\n",
       "  <tbody>\n",
       "    <tr>\n",
       "      <th>0</th>\n",
       "      <td>7</td>\n",
       "      <td>14</td>\n",
       "      <td>1</td>\n",
       "      <td>8</td>\n",
       "    </tr>\n",
       "  </tbody>\n",
       "</table>\n",
       "</div>"
      ],
      "text/plain": [
       "   Apple  Orange  Banana  Pear\n",
       "0      7      14       1     8"
      ]
     },
     "execution_count": 37,
     "metadata": {},
     "output_type": "execute_result"
    }
   ],
   "source": [
    "df.mode()"
   ]
  },
  {
   "cell_type": "code",
   "execution_count": 45,
   "id": "ba16abce-9259-4d02-8177-d2c3a50b69de",
   "metadata": {},
   "outputs": [
    {
     "data": {
      "text/html": [
       "<div>\n",
       "<style scoped>\n",
       "    .dataframe tbody tr th:only-of-type {\n",
       "        vertical-align: middle;\n",
       "    }\n",
       "\n",
       "    .dataframe tbody tr th {\n",
       "        vertical-align: top;\n",
       "    }\n",
       "\n",
       "    .dataframe thead th {\n",
       "        text-align: right;\n",
       "    }\n",
       "</style>\n",
       "<table border=\"1\" class=\"dataframe\">\n",
       "  <thead>\n",
       "    <tr style=\"text-align: right;\">\n",
       "      <th></th>\n",
       "      <th>Name</th>\n",
       "      <th>Author</th>\n",
       "      <th>User Rating</th>\n",
       "      <th>Reviews</th>\n",
       "      <th>Price</th>\n",
       "      <th>Year</th>\n",
       "      <th>Genre</th>\n",
       "    </tr>\n",
       "  </thead>\n",
       "  <tbody>\n",
       "    <tr>\n",
       "      <th>0</th>\n",
       "      <td>Act Like a Lady, Think Like a Man: What Men Re...</td>\n",
       "      <td>Steve Harvey</td>\n",
       "      <td>4.6</td>\n",
       "      <td>5013</td>\n",
       "      <td>17</td>\n",
       "      <td>2009</td>\n",
       "      <td>Non Fiction</td>\n",
       "    </tr>\n",
       "    <tr>\n",
       "      <th>1</th>\n",
       "      <td>Arguing with Idiots: How to Stop Small Minds a...</td>\n",
       "      <td>Glenn Beck</td>\n",
       "      <td>4.6</td>\n",
       "      <td>798</td>\n",
       "      <td>5</td>\n",
       "      <td>2009</td>\n",
       "      <td>Non Fiction</td>\n",
       "    </tr>\n",
       "    <tr>\n",
       "      <th>2</th>\n",
       "      <td>Breaking Dawn (The Twilight Saga, Book 4)</td>\n",
       "      <td>Stephenie Meyer</td>\n",
       "      <td>4.6</td>\n",
       "      <td>9769</td>\n",
       "      <td>13</td>\n",
       "      <td>2009</td>\n",
       "      <td>Fiction</td>\n",
       "    </tr>\n",
       "    <tr>\n",
       "      <th>3</th>\n",
       "      <td>Crazy Love: Overwhelmed by a Relentless God</td>\n",
       "      <td>Francis Chan</td>\n",
       "      <td>4.7</td>\n",
       "      <td>1542</td>\n",
       "      <td>14</td>\n",
       "      <td>2009</td>\n",
       "      <td>Non Fiction</td>\n",
       "    </tr>\n",
       "    <tr>\n",
       "      <th>4</th>\n",
       "      <td>Dead And Gone: A Sookie Stackhouse Novel (Sook...</td>\n",
       "      <td>Charlaine Harris</td>\n",
       "      <td>4.6</td>\n",
       "      <td>1541</td>\n",
       "      <td>4</td>\n",
       "      <td>2009</td>\n",
       "      <td>Fiction</td>\n",
       "    </tr>\n",
       "  </tbody>\n",
       "</table>\n",
       "</div>"
      ],
      "text/plain": [
       "                                                Name            Author  \\\n",
       "0  Act Like a Lady, Think Like a Man: What Men Re...      Steve Harvey   \n",
       "1  Arguing with Idiots: How to Stop Small Minds a...        Glenn Beck   \n",
       "2          Breaking Dawn (The Twilight Saga, Book 4)   Stephenie Meyer   \n",
       "3        Crazy Love: Overwhelmed by a Relentless God      Francis Chan   \n",
       "4  Dead And Gone: A Sookie Stackhouse Novel (Sook...  Charlaine Harris   \n",
       "\n",
       "   User Rating  Reviews  Price  Year        Genre  \n",
       "0          4.6     5013     17  2009  Non Fiction  \n",
       "1          4.6      798      5  2009  Non Fiction  \n",
       "2          4.6     9769     13  2009      Fiction  \n",
       "3          4.7     1542     14  2009  Non Fiction  \n",
       "4          4.6     1541      4  2009      Fiction  "
      ]
     },
     "execution_count": 45,
     "metadata": {},
     "output_type": "execute_result"
    }
   ],
   "source": [
    "# Q3. Problem Statement: Measures of Central Tendency- III\n",
    "# Load the “Books.csv” dataset into a DataFrame and perform the following tasks:\n",
    "# 1. Perform initial analysis on the dataset using the info() and the\n",
    "# describe() functions\n",
    "# 2. Group the data based on the \"Author\" column and calculate the average user\n",
    "# ratings and average price, and write them in new columns\n",
    "# 3. Find out which of the authors have written the maximum number of books \n",
    "\n",
    "Book = pd.read_csv(\"Books.csv\")\n",
    "Book.head()"
   ]
  },
  {
   "cell_type": "code",
   "execution_count": 47,
   "id": "66fcdb41-6815-4503-96f1-57c6d178dbe7",
   "metadata": {},
   "outputs": [
    {
     "name": "stdout",
     "output_type": "stream",
     "text": [
      "<class 'pandas.core.frame.DataFrame'>\n",
      "RangeIndex: 700 entries, 0 to 699\n",
      "Data columns (total 7 columns):\n",
      " #   Column       Non-Null Count  Dtype  \n",
      "---  ------       --------------  -----  \n",
      " 0   Name         700 non-null    object \n",
      " 1   Author       700 non-null    object \n",
      " 2   User Rating  700 non-null    float64\n",
      " 3   Reviews      700 non-null    int64  \n",
      " 4   Price        700 non-null    int64  \n",
      " 5   Year         700 non-null    int64  \n",
      " 6   Genre        700 non-null    object \n",
      "dtypes: float64(1), int64(3), object(3)\n",
      "memory usage: 38.4+ KB\n"
     ]
    }
   ],
   "source": [
    "Book.info()"
   ]
  },
  {
   "cell_type": "code",
   "execution_count": 51,
   "id": "3140bffe-cd45-49dc-b3f1-7595e1227bc7",
   "metadata": {},
   "outputs": [
    {
     "data": {
      "text/html": [
       "<div>\n",
       "<style scoped>\n",
       "    .dataframe tbody tr th:only-of-type {\n",
       "        vertical-align: middle;\n",
       "    }\n",
       "\n",
       "    .dataframe tbody tr th {\n",
       "        vertical-align: top;\n",
       "    }\n",
       "\n",
       "    .dataframe thead th {\n",
       "        text-align: right;\n",
       "    }\n",
       "</style>\n",
       "<table border=\"1\" class=\"dataframe\">\n",
       "  <thead>\n",
       "    <tr style=\"text-align: right;\">\n",
       "      <th></th>\n",
       "      <th>User Rating</th>\n",
       "      <th>Reviews</th>\n",
       "      <th>Price</th>\n",
       "      <th>Year</th>\n",
       "    </tr>\n",
       "  </thead>\n",
       "  <tbody>\n",
       "    <tr>\n",
       "      <th>count</th>\n",
       "      <td>700.000000</td>\n",
       "      <td>700.000000</td>\n",
       "      <td>700.000000</td>\n",
       "      <td>700.000000</td>\n",
       "    </tr>\n",
       "    <tr>\n",
       "      <th>mean</th>\n",
       "      <td>4.639857</td>\n",
       "      <td>19255.195714</td>\n",
       "      <td>12.700000</td>\n",
       "      <td>2015.500000</td>\n",
       "    </tr>\n",
       "    <tr>\n",
       "      <th>std</th>\n",
       "      <td>0.218586</td>\n",
       "      <td>23613.443875</td>\n",
       "      <td>9.915162</td>\n",
       "      <td>4.034011</td>\n",
       "    </tr>\n",
       "    <tr>\n",
       "      <th>min</th>\n",
       "      <td>3.300000</td>\n",
       "      <td>37.000000</td>\n",
       "      <td>0.000000</td>\n",
       "      <td>2009.000000</td>\n",
       "    </tr>\n",
       "    <tr>\n",
       "      <th>25%</th>\n",
       "      <td>4.500000</td>\n",
       "      <td>4987.250000</td>\n",
       "      <td>7.000000</td>\n",
       "      <td>2012.000000</td>\n",
       "    </tr>\n",
       "    <tr>\n",
       "      <th>50%</th>\n",
       "      <td>4.700000</td>\n",
       "      <td>10284.000000</td>\n",
       "      <td>11.000000</td>\n",
       "      <td>2015.500000</td>\n",
       "    </tr>\n",
       "    <tr>\n",
       "      <th>75%</th>\n",
       "      <td>4.800000</td>\n",
       "      <td>23358.000000</td>\n",
       "      <td>15.000000</td>\n",
       "      <td>2019.000000</td>\n",
       "    </tr>\n",
       "    <tr>\n",
       "      <th>max</th>\n",
       "      <td>4.900000</td>\n",
       "      <td>208917.000000</td>\n",
       "      <td>105.000000</td>\n",
       "      <td>2022.000000</td>\n",
       "    </tr>\n",
       "  </tbody>\n",
       "</table>\n",
       "</div>"
      ],
      "text/plain": [
       "       User Rating        Reviews       Price         Year\n",
       "count   700.000000     700.000000  700.000000   700.000000\n",
       "mean      4.639857   19255.195714   12.700000  2015.500000\n",
       "std       0.218586   23613.443875    9.915162     4.034011\n",
       "min       3.300000      37.000000    0.000000  2009.000000\n",
       "25%       4.500000    4987.250000    7.000000  2012.000000\n",
       "50%       4.700000   10284.000000   11.000000  2015.500000\n",
       "75%       4.800000   23358.000000   15.000000  2019.000000\n",
       "max       4.900000  208917.000000  105.000000  2022.000000"
      ]
     },
     "execution_count": 51,
     "metadata": {},
     "output_type": "execute_result"
    }
   ],
   "source": [
    "Book.describe()"
   ]
  },
  {
   "cell_type": "code",
   "execution_count": 66,
   "id": "ef28e385-a916-43f3-a9a3-f4555b26def8",
   "metadata": {},
   "outputs": [
    {
     "name": "stdout",
     "output_type": "stream",
     "text": [
      "                 Author  author_rating  price_author\n",
      "0      Abraham Verghese            4.6     11.000000\n",
      "1        Adam Gasiewski            4.4      6.000000\n",
      "2         Adam Mansbach            4.8      9.000000\n",
      "3          Adam Silvera            4.7      8.000000\n",
      "4          Adam Wallace            4.8      6.250000\n",
      "..                  ...            ...           ...\n",
      "300    William P. Young            4.6      8.000000\n",
      "301    Wizards RPG Team            4.8     27.000000\n",
      "302  Wonder House Books            4.6     16.000000\n",
      "303  Workman Publishing            4.8      7.666667\n",
      "304        Zhi Gang Sha            4.6     11.500000\n",
      "\n",
      "[305 rows x 3 columns]\n"
     ]
    }
   ],
   "source": [
    "author_group = Book.groupby(\"Author\").agg( author_rating = (\"User Rating\", 'mean'), price_author = (\"Price\", \"mean\")).reset_index()\n",
    "print(author_group)"
   ]
  },
  {
   "cell_type": "code",
   "execution_count": 112,
   "id": "15e3fcab-cbd1-417f-9d54-bc5fb0b9c881",
   "metadata": {},
   "outputs": [
    {
     "name": "stdout",
     "output_type": "stream",
     "text": [
      "                                 Author  count\n",
      "0                           Jeff Kinney     14\n",
      "1                          Gary Chapman     14\n",
      "2                       Suzanne Collins     12\n",
      "3                          Rick Riordan     11\n",
      "4    American Psychological Association     11\n",
      "..                                  ...    ...\n",
      "300                      Randall Munroe      1\n",
      "301           Coloring Books for Adults      1\n",
      "302                          Chris Kyle      1\n",
      "303                         Angie Grace      1\n",
      "304                     Stephen Perrine      1\n",
      "\n",
      "[305 rows x 2 columns]\n",
      "Authors with maximum books          Author  count\n",
      "0   Jeff Kinney     14\n",
      "1  Gary Chapman     14\n"
     ]
    }
   ],
   "source": [
    "author_count = Book[\"Author\"].value_counts().reset_index()\n",
    "print(author_count)\n",
    "max_book = author_count[\"count\"].max()\n",
    "author_max = author_count[author_count[\"count\"] == max_book]\n",
    "print(\"Authors with maximum books\" , author_max)\n",
    "# max_books = author_count['Author'].max()\n",
    "# authors_with_max_books = author_count[author_count['Author'] == max_books]\n",
    "\n",
    "# # Display the authors with the maximum number of books\n",
    "# print(authors_with_max_books)\n",
    "# author_count[\"Author\"].max()"
   ]
  }
 ],
 "metadata": {
  "kernelspec": {
   "display_name": "Python 3 (ipykernel)",
   "language": "python",
   "name": "python3"
  },
  "language_info": {
   "codemirror_mode": {
    "name": "ipython",
    "version": 3
   },
   "file_extension": ".py",
   "mimetype": "text/x-python",
   "name": "python",
   "nbconvert_exporter": "python",
   "pygments_lexer": "ipython3",
   "version": "3.12.4"
  }
 },
 "nbformat": 4,
 "nbformat_minor": 5
}
